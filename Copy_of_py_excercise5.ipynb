{
  "nbformat": 4,
  "nbformat_minor": 0,
  "metadata": {
    "colab": {
      "provenance": [],
      "authorship_tag": "ABX9TyNVGuJ2MYtnDAUJI7tkv329",
      "include_colab_link": true
    },
    "kernelspec": {
      "name": "python3",
      "display_name": "Python 3"
    },
    "language_info": {
      "name": "python"
    }
  },
  "cells": [
    {
      "cell_type": "markdown",
      "metadata": {
        "id": "view-in-github",
        "colab_type": "text"
      },
      "source": [
        "<a href=\"https://colab.research.google.com/github/dharveshkhan/me/blob/master/Copy_of_py_excercise5.ipynb\" target=\"_parent\"><img src=\"https://colab.research.google.com/assets/colab-badge.svg\" alt=\"Open In Colab\"/></a>"
      ]
    },
    {
      "cell_type": "markdown",
      "source": [
        "Refer to the notes downloaded"
      ],
      "metadata": {
        "id": "7WDdCWUvcwqr"
      }
    },
    {
      "cell_type": "code",
      "source": [
        "import numpy as np\n",
        "array_1d=np.array([1,6,4,2,8,9,5,3,5])\n",
        "print((array_1d[-1]))\n",
        "print(array_1d[3:6:1])\n",
        "print(array_1d[::-1])\n",
        "print(type(array_1d[::-1]))\n",
        "print(np.sum(array_1d)) # sum of the array\n",
        "\n",
        "#do home work to calculate sum of hald the array, first half or sexond half and handle if its even or odd\n"
      ],
      "metadata": {
        "id": "PvUps2HS5g7Y",
        "colab": {
          "base_uri": "https://localhost:8080/"
        },
        "outputId": "1f5051cc-9fb1-44fd-dc55-7c91931bb2fb"
      },
      "execution_count": null,
      "outputs": [
        {
          "output_type": "stream",
          "name": "stdout",
          "text": [
            "5\n",
            "[2 8 9]\n",
            "[5 3 5 9 8 2 4 6 1]\n",
            "<class 'numpy.ndarray'>\n",
            "43\n",
            "4.5\n"
          ]
        }
      ]
    },
    {
      "cell_type": "code",
      "source": [
        "import numpy as np\n",
        "array_2d=np.array([[1,2,3,4], [5,6,7,8], [4,7,9,2]])\n",
        "print(array_2d)\n",
        "print(array_2d.shape)\n",
        "print(array_2d[0][0]) #indexing\n",
        "print(array_2d[2][-1]) #indexing\n",
        "print(array_2d[2,-1]) #indexing\n",
        "#slicing\n",
        "print(array_2d[1:-1,1:-1])\n"
      ],
      "metadata": {
        "colab": {
          "base_uri": "https://localhost:8080/"
        },
        "id": "D9Cn01_n6os1",
        "outputId": "7d3c79a8-421e-4aa2-c37e-84301e3233f3"
      },
      "execution_count": 2,
      "outputs": [
        {
          "output_type": "stream",
          "name": "stdout",
          "text": [
            "[[1 2 3 4]\n",
            " [5 6 7 8]\n",
            " [4 7 9 2]]\n",
            "(3, 4)\n",
            "1\n",
            "2\n",
            "2\n",
            "[[6 7]]\n"
          ]
        }
      ]
    },
    {
      "cell_type": "code",
      "source": [
        "import numpy as np\n",
        "arr3d = np.array([\n",
        "    [[1, 2, 3, 4],\n",
        "     [5, 6, 7, 8],\n",
        "     [9, 10, 11, 12]],\n",
        "\n",
        "    [[13, 14, 15, 16],\n",
        "     [17, 18, 19, 20],\n",
        "     [21, 22, 23, 24]]\n",
        "])\n",
        "print(arr3d.shape)\n",
        "print(arr3d[1:,1:,1:])"
      ],
      "metadata": {
        "colab": {
          "base_uri": "https://localhost:8080/"
        },
        "id": "ro34NvpX-yoo",
        "outputId": "f2204de6-c8c4-4158-b4b6-ee43cb277677"
      },
      "execution_count": 7,
      "outputs": [
        {
          "output_type": "stream",
          "name": "stdout",
          "text": [
            "(2, 3, 4)\n",
            "[[[18 19 20]\n",
            "  [22 23 24]]]\n"
          ]
        }
      ]
    },
    {
      "cell_type": "code",
      "source": [
        "import numpy as np\n",
        "ar= np.array(0)\n",
        "ar.ndim\n",
        "ar2 = np.array([[[ar]]])\n",
        "ar2.ndim\n",
        "ar2.shape\n",
        "\n",
        "#number of backets no bracket (9) 0 dimension. [3] - 1 dimentions , [[9]] 2 dimentions and so on."
      ],
      "metadata": {
        "colab": {
          "base_uri": "https://localhost:8080/"
        },
        "id": "btBeEEMnaclC",
        "outputId": "84903301-8638-4a64-fff3-6fe6f3396f66"
      },
      "execution_count": 20,
      "outputs": [
        {
          "output_type": "execute_result",
          "data": {
            "text/plain": [
              "(1, 1, 1)"
            ]
          },
          "metadata": {},
          "execution_count": 20
        }
      ]
    },
    {
      "cell_type": "code",
      "source": [
        "arr1d = np.array([ar])\n",
        "arr1d.ndim"
      ],
      "metadata": {
        "colab": {
          "base_uri": "https://localhost:8080/"
        },
        "id": "I81kRyQebdm2",
        "outputId": "13ec5b22-788f-4bba-d7b5-67d6365f5e95"
      },
      "execution_count": 21,
      "outputs": [
        {
          "output_type": "execute_result",
          "data": {
            "text/plain": [
              "1"
            ]
          },
          "metadata": {},
          "execution_count": 21
        }
      ]
    },
    {
      "cell_type": "markdown",
      "source": [
        "1d array is having 0d, 2d array is having 1d arrays and so on."
      ],
      "metadata": {
        "id": "UaJ-ax8Eb7kZ"
      }
    },
    {
      "cell_type": "code",
      "source": [
        "a3d = np.array([[[7,8,9,0,0], [7,8,9,0,0]],[[7,8,9,0,0], [7,8,9,0,0]]])\n",
        "a3d.ndim\n",
        "a3d.shape"
      ],
      "metadata": {
        "colab": {
          "base_uri": "https://localhost:8080/"
        },
        "id": "ZZVomFeRcMSQ",
        "outputId": "6124a82c-2b35-47b0-dbb0-2414a3189ab4"
      },
      "execution_count": 27,
      "outputs": [
        {
          "output_type": "execute_result",
          "data": {
            "text/plain": [
              "(2, 2, 5)"
            ]
          },
          "metadata": {},
          "execution_count": 27
        }
      ]
    }
  ]
}