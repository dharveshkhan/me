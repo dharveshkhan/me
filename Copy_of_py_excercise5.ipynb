{
  "nbformat": 4,
  "nbformat_minor": 0,
  "metadata": {
    "colab": {
      "provenance": [],
      "authorship_tag": "ABX9TyMHqA1VTJ8TLIZJ6rBixhe/",
      "include_colab_link": true
    },
    "kernelspec": {
      "name": "python3",
      "display_name": "Python 3"
    },
    "language_info": {
      "name": "python"
    }
  },
  "cells": [
    {
      "cell_type": "markdown",
      "metadata": {
        "id": "view-in-github",
        "colab_type": "text"
      },
      "source": [
        "<a href=\"https://colab.research.google.com/github/dharveshkhan/me/blob/master/Copy_of_py_excercise5.ipynb\" target=\"_parent\"><img src=\"https://colab.research.google.com/assets/colab-badge.svg\" alt=\"Open In Colab\"/></a>"
      ]
    },
    {
      "cell_type": "code",
      "source": [
        "import numpy as np\n",
        "array_1d=np.array([1,6,4,2,8,9,5,3,5])\n",
        "print((array_1d[-1]))\n",
        "print(array_1d[3:6:1])\n",
        "print(array_1d[::-1])\n",
        "print(type(array_1d[::-1]))\n",
        "print(np.sum(array_1d)) # sum of the array\n",
        "\n",
        "#do home work to calculate sum of hald the array, first half or sexond half and handle if its even or odd\n"
      ],
      "metadata": {
        "id": "PvUps2HS5g7Y",
        "colab": {
          "base_uri": "https://localhost:8080/"
        },
        "outputId": "1f5051cc-9fb1-44fd-dc55-7c91931bb2fb"
      },
      "execution_count": null,
      "outputs": [
        {
          "output_type": "stream",
          "name": "stdout",
          "text": [
            "5\n",
            "[2 8 9]\n",
            "[5 3 5 9 8 2 4 6 1]\n",
            "<class 'numpy.ndarray'>\n",
            "43\n",
            "4.5\n"
          ]
        }
      ]
    },
    {
      "cell_type": "code",
      "source": [
        "import numpy as np\n",
        "array_2d=np.array([[1,2,3,4], [5,6,7,8], [4,7,9,2]])\n",
        "print(array_2d)\n",
        "print(array_2d.shape)\n",
        "print(array_2d[0][0]) #indexing\n",
        "print(array_2d[2][-1]) #indexing\n",
        "print(array_2d[2,-1]) #indexing\n",
        "#slicing\n",
        "print(array_2d[1:-1,1:-1])\n"
      ],
      "metadata": {
        "colab": {
          "base_uri": "https://localhost:8080/"
        },
        "id": "D9Cn01_n6os1",
        "outputId": "1cc584bd-bfb8-4f2c-a799-ed9e5ce684b7"
      },
      "execution_count": 5,
      "outputs": [
        {
          "output_type": "stream",
          "name": "stdout",
          "text": [
            "[[1 2 3 4]\n",
            " [5 6 7 8]\n",
            " [4 7 9 2]]\n",
            "(3, 4)\n",
            "1\n",
            "2\n",
            "2\n",
            "[[6 7]]\n"
          ]
        }
      ]
    }
  ]
}