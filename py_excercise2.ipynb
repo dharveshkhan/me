{
  "nbformat": 4,
  "nbformat_minor": 0,
  "metadata": {
    "colab": {
      "provenance": [],
      "authorship_tag": "ABX9TyOtqr7CWP+zD7btYiwx2xhN",
      "include_colab_link": true
    },
    "kernelspec": {
      "name": "python3",
      "display_name": "Python 3"
    },
    "language_info": {
      "name": "python"
    }
  },
  "cells": [
    {
      "cell_type": "markdown",
      "metadata": {
        "id": "view-in-github",
        "colab_type": "text"
      },
      "source": [
        "<a href=\"https://colab.research.google.com/github/dharveshkhan/me/blob/master/py_excercise2.ipynb\" target=\"_parent\"><img src=\"https://colab.research.google.com/assets/colab-badge.svg\" alt=\"Open In Colab\"/></a>"
      ]
    },
    {
      "cell_type": "markdown",
      "source": [
        "Python Statement single and multiline"
      ],
      "metadata": {
        "id": "Aq6ajhlUUW6e"
      }
    },
    {
      "cell_type": "code",
      "execution_count": null,
      "metadata": {
        "id": "CRbdCVwHT0K0"
      },
      "outputs": [],
      "source": [
        "n=10 #singleline\n",
        "print(n)"
      ]
    },
    {
      "cell_type": "code",
      "source": [
        "#multiline\n",
        "o=10+20+30+40\n",
        "print(o)"
      ],
      "metadata": {
        "colab": {
          "base_uri": "https://localhost:8080/"
        },
        "id": "vPyN_yjXUmoZ",
        "outputId": "86d3a207-c8c5-482e-b37e-228a0e122515"
      },
      "execution_count": 1,
      "outputs": [
        {
          "output_type": "stream",
          "name": "stdout",
          "text": [
            "100\n"
          ]
        }
      ]
    },
    {
      "cell_type": "code",
      "source": [
        "#use a continuation character slash to proceed in case code extends to next line\n",
        "o=10+20+\\\n",
        "30+40\n",
        "print(o)"
      ],
      "metadata": {
        "colab": {
          "base_uri": "https://localhost:8080/"
        },
        "id": "tRT1vjfvU0fN",
        "outputId": "1f11a168-fa30-4a44-c133-f766e2b667ca"
      },
      "execution_count": 3,
      "outputs": [
        {
          "output_type": "stream",
          "name": "stdout",
          "text": [
            "100\n"
          ]
        }
      ]
    },
    {
      "cell_type": "markdown",
      "source": [
        "##Python string. unicode character. each string/integer has a size"
      ],
      "metadata": {
        "id": "3H95VpcOVnAb"
      }
    },
    {
      "cell_type": "code",
      "source": [
        "import sys\n",
        "var=1\n",
        "sys.getsizeof(var)\n",
        "var2=''\n",
        "sys.getsizeof(var2)\n"
      ],
      "metadata": {
        "colab": {
          "base_uri": "https://localhost:8080/"
        },
        "id": "U0eJUYW6WA_f",
        "outputId": "3117705c-be7f-4c3c-ace6-daffae95ec11"
      },
      "execution_count": 12,
      "outputs": [
        {
          "output_type": "execute_result",
          "data": {
            "text/plain": [
              "49"
            ]
          },
          "metadata": {},
          "execution_count": 12
        }
      ]
    },
    {
      "cell_type": "code",
      "source": [
        "#string[starting:ending+1:step_size]\n",
        "s=\"welcome to Riyad and help me out\"\n",
        "print(s[-1]) #reverse indexing\n",
        "print(s[0:2]) #string splicing\n",
        "print(s[3:-1])\n",
        "print(s[3:]) #if : is not mentioned it takes the last index\n",
        "print(s[0:-1:2]) #step example\n",
        "print(s[0:5:2])\n",
        "print(s[6:4])"
      ],
      "metadata": {
        "colab": {
          "base_uri": "https://localhost:8080/"
        },
        "id": "c0JQtTevWtxA",
        "outputId": "ee159f68-2004-4b75-ae83-7d40f34ab892"
      },
      "execution_count": 30,
      "outputs": [
        {
          "output_type": "stream",
          "name": "stdout",
          "text": [
            "t\n",
            "we\n",
            "come to Riyad and help me ou\n",
            "come to Riyad and help me out\n",
            "wloet ia n epm u\n",
            "wlo\n",
            "\n"
          ]
        }
      ]
    },
    {
      "cell_type": "code",
      "source": [
        "a='Dharvesh'\n",
        "print(a[7:6:-1]) #if start index is great it doesnt return any error. but using negative steps make it go backward\n",
        "print(a[::-1]) #reverses the string\n",
        "print(a[-1:-3:]) #wont print anything because step is by default positive\n",
        "\n",
        "print(a[-1:-3:-1]) #wont print anything because step is by default positive"
      ],
      "metadata": {
        "colab": {
          "base_uri": "https://localhost:8080/"
        },
        "id": "GaHMUdWLdi6O",
        "outputId": "0177c7f4-d6c2-4773-a401-e59e0f8da76a"
      },
      "execution_count": 40,
      "outputs": [
        {
          "output_type": "stream",
          "name": "stdout",
          "text": [
            "h\n",
            "hsevrahD\n",
            "\n",
            "hs\n"
          ]
        }
      ]
    },
    {
      "cell_type": "code",
      "source": [
        "k='Lets have a new string'\n",
        "k[:-3:-1]#The starting index is omitted. When the step is negative, omitting the start index defaults to the end of the string\n",
        "k[3::-1]"
      ],
      "metadata": {
        "colab": {
          "base_uri": "https://localhost:8080/",
          "height": 35
        },
        "id": "Z5eXCbR9gK81",
        "outputId": "6b774728-f35c-46eb-8e55-211935858ee6"
      },
      "execution_count": 46,
      "outputs": [
        {
          "output_type": "execute_result",
          "data": {
            "text/plain": [
              "'steL'"
            ],
            "application/vnd.google.colaboratory.intrinsic+json": {
              "type": "string"
            }
          },
          "metadata": {},
          "execution_count": 46
        }
      ]
    },
    {
      "cell_type": "code",
      "source": [
        "p='5'\n",
        "p[::-1]"
      ],
      "metadata": {
        "colab": {
          "base_uri": "https://localhost:8080/",
          "height": 35
        },
        "id": "7uivoO9UipTQ",
        "outputId": "3986db27-b9b8-45fc-d428-c6932efbfa57"
      },
      "execution_count": 47,
      "outputs": [
        {
          "output_type": "execute_result",
          "data": {
            "text/plain": [
              "'nahKhsevrahD'"
            ],
            "application/vnd.google.colaboratory.intrinsic+json": {
              "type": "string"
            }
          },
          "metadata": {},
          "execution_count": 47
        }
      ]
    },
    {
      "cell_type": "code",
      "source": [
        "a=7\n",
        "b=9.2\n",
        "c=a+b\n",
        "print(type(c))"
      ],
      "metadata": {
        "colab": {
          "base_uri": "https://localhost:8080/"
        },
        "id": "AHwujiA6j8Ta",
        "outputId": "7730adac-b9c1-469b-9393-d20c689b40e8"
      },
      "execution_count": 49,
      "outputs": [
        {
          "output_type": "stream",
          "name": "stdout",
          "text": [
            "<class 'float'>\n"
          ]
        }
      ]
    },
    {
      "cell_type": "markdown",
      "source": [
        "using str. format to beautify output"
      ],
      "metadata": {
        "id": "bq8Ksvi_sEc8"
      }
    },
    {
      "cell_type": "code",
      "source": [
        "i=10\n",
        "j=20\n",
        "print(\"i like {Number1},{Number2}\".format(Number1=i,Number2=j))"
      ],
      "metadata": {
        "colab": {
          "base_uri": "https://localhost:8080/"
        },
        "id": "4xicGaFlsGfC",
        "outputId": "94fb69c6-bdac-4f1d-c3f1-8b21091da3a5"
      },
      "execution_count": 58,
      "outputs": [
        {
          "output_type": "stream",
          "name": "stdout",
          "text": [
            "i like 10,20\n"
          ]
        }
      ]
    },
    {
      "cell_type": "code",
      "source": [
        "i=10\n",
        "j=20\n",
        "print(\"i like {},{}\".format(i,j))"
      ],
      "metadata": {
        "colab": {
          "base_uri": "https://localhost:8080/"
        },
        "id": "hliOHxy8tA7u",
        "outputId": "bd479f67-79ae-49bb-d975-29550e693ab2"
      },
      "execution_count": 59,
      "outputs": [
        {
          "output_type": "stream",
          "name": "stdout",
          "text": [
            "i like 10,20\n"
          ]
        }
      ]
    },
    {
      "cell_type": "code",
      "source": [
        "i=10\n",
        "j=20\n",
        "#print(\"i like {1},{0}\".format(i,j))"
      ],
      "metadata": {
        "colab": {
          "base_uri": "https://localhost:8080/"
        },
        "id": "OWfy1xsAtGhW",
        "outputId": "98d23b82-c794-4d91-aa65-5b7177722ae2"
      },
      "execution_count": 60,
      "outputs": [
        {
          "output_type": "stream",
          "name": "stdout",
          "text": [
            "i like 20,10\n"
          ]
        }
      ]
    },
    {
      "cell_type": "markdown",
      "source": [
        "using indexing and keyword arguments together"
      ],
      "metadata": {
        "id": "mg88WVJdvm5I"
      }
    },
    {
      "cell_type": "code",
      "source": [
        "print(\"entered values are int : {}, int2 : {num2}\".format(i, num2=j))"
      ],
      "metadata": {
        "colab": {
          "base_uri": "https://localhost:8080/"
        },
        "id": "YgW0Ec47vqAT",
        "outputId": "3bd4bada-4816-490d-8da6-493ee25f8a8c"
      },
      "execution_count": 62,
      "outputs": [
        {
          "output_type": "stream",
          "name": "stdout",
          "text": [
            "entered values are int : 10, int2 : 20\n"
          ]
        }
      ]
    },
    {
      "cell_type": "code",
      "source": [
        "var=3.123456\n",
        "print(var)\n",
        "print('Round to two places of decimal: {:+.2f}'.format(var)) #formating the integers or floats 2indicates the the decimal points."
      ],
      "metadata": {
        "colab": {
          "base_uri": "https://localhost:8080/"
        },
        "id": "U_2gulivwHAC",
        "outputId": "ac13acc7-2dee-48c2-888f-a5f569557613"
      },
      "execution_count": 67,
      "outputs": [
        {
          "output_type": "stream",
          "name": "stdout",
          "text": [
            "3.123456\n",
            "Round to two places of decimal: +3.12\n"
          ]
        }
      ]
    },
    {
      "cell_type": "markdown",
      "source": [
        "Arithmetic operators\n",
        "## +, -, /, //, *, %, **, %"
      ],
      "metadata": {
        "id": "-zE7SHc2yPEk"
      }
    },
    {
      "cell_type": "code",
      "source": [
        "a=100\n",
        "b=21\n",
        "c=a%b\n",
        "print(c)"
      ],
      "metadata": {
        "colab": {
          "base_uri": "https://localhost:8080/"
        },
        "id": "tlTX2rHhyVWa",
        "outputId": "09966ce2-09da-4587-953e-206b2350928d"
      },
      "execution_count": 71,
      "outputs": [
        {
          "output_type": "stream",
          "name": "stdout",
          "text": [
            "16\n"
          ]
        }
      ]
    },
    {
      "cell_type": "markdown",
      "source": [
        "Comparison operators :  == , < , > , <=, >=, !="
      ],
      "metadata": {
        "id": "zDvpAoqpzumZ"
      }
    },
    {
      "cell_type": "code",
      "source": [
        "u,v=5,2\n",
        "print(5<2) #returns boolean"
      ],
      "metadata": {
        "colab": {
          "base_uri": "https://localhost:8080/"
        },
        "id": "IShbdI3x0DdX",
        "outputId": "8bb02898-ccd4-4ad1-a3e1-a86117e86d88"
      },
      "execution_count": 72,
      "outputs": [
        {
          "output_type": "stream",
          "name": "stdout",
          "text": [
            "False\n"
          ]
        }
      ]
    },
    {
      "cell_type": "markdown",
      "source": [
        "Logical operators -- And, OR, NOT   : they will operate on Boolean data type"
      ],
      "metadata": {
        "id": "rQooW2tH00gK"
      }
    },
    {
      "cell_type": "code",
      "source": [
        "v1=[True, False]\n",
        "v2=[True, False]\n",
        "for i in v1:\n",
        "  for j in v2:\n",
        "    print(\"variable1 {} and variable2 {} so And gate is {}\".format(i,j, i and j))\n",
        "    print(\"variable1 {} and variable2 {} so OR gate is {} \".format(i,j, i or j))\n",
        "    print(\"variable1 {} and variable2 {} So Not gate is {}\".format(i,j, not j))\n",
        "    print(\"---------------------\")\n",
        ""
      ],
      "metadata": {
        "colab": {
          "base_uri": "https://localhost:8080/"
        },
        "id": "76hzHiOo1zvZ",
        "outputId": "9684b8e8-61fc-4ead-f512-f5e6f63e7c93"
      },
      "execution_count": 77,
      "outputs": [
        {
          "output_type": "stream",
          "name": "stdout",
          "text": [
            "variable1 True and variable2 True so And gate is True\n",
            "variable1 True and variable2 True so OR gate is True \n",
            "variable1 True and variable2 True So Not gate is False\n",
            "---------------------\n",
            "variable1 True and variable2 False so And gate is False\n",
            "variable1 True and variable2 False so OR gate is True \n",
            "variable1 True and variable2 False So Not gate is True\n",
            "---------------------\n",
            "variable1 False and variable2 True so And gate is False\n",
            "variable1 False and variable2 True so OR gate is True \n",
            "variable1 False and variable2 True So Not gate is False\n",
            "---------------------\n",
            "variable1 False and variable2 False so And gate is False\n",
            "variable1 False and variable2 False so OR gate is False \n",
            "variable1 False and variable2 False So Not gate is True\n",
            "---------------------\n"
          ]
        }
      ]
    },
    {
      "cell_type": "code",
      "source": [
        "v1=[True, False]\n",
        "v2=[True, False]\n",
        "for i in v1:\n",
        "  for j in v2:\n",
        "    print(\"variable1 {0} and variable2 {1} :so {0} and {1} gate is {2}\".format(i,j, i and j))\n",
        "    print(\"variable1 {0} and variable2 {1} :so {0} OR {1} gate is {2}\".format(i,j, i or j))\n",
        "    print(\"variable1 {0} :so NOT {0} gate is {1}\".format(i, not i))\n",
        "    print(\"---------------------\")"
      ],
      "metadata": {
        "colab": {
          "base_uri": "https://localhost:8080/"
        },
        "id": "zrz0l7QQ3J7y",
        "outputId": "aa653c23-cf09-408a-f6b0-bb1ad58a3f07"
      },
      "execution_count": 83,
      "outputs": [
        {
          "output_type": "stream",
          "name": "stdout",
          "text": [
            "variable1 True and variable2 True :so True and True gate is True\n",
            "variable1 True and variable2 True :so True OR True gate is True\n",
            "variable1 True :so NOT True gate is False\n",
            "---------------------\n",
            "variable1 True and variable2 False :so True and False gate is False\n",
            "variable1 True and variable2 False :so True OR False gate is True\n",
            "variable1 True :so NOT True gate is False\n",
            "---------------------\n",
            "variable1 False and variable2 True :so False and True gate is False\n",
            "variable1 False and variable2 True :so False OR True gate is True\n",
            "variable1 False :so NOT False gate is True\n",
            "---------------------\n",
            "variable1 False and variable2 False :so False and False gate is False\n",
            "variable1 False and variable2 False :so False OR False gate is False\n",
            "variable1 False :so NOT False gate is True\n",
            "---------------------\n"
          ]
        }
      ]
    },
    {
      "cell_type": "markdown",
      "source": [
        "Bitwise operators :  bitwise operators are special operators used to perform operations on integers at the bit level (binary representation). They work directly on the individual bits (0s and 1s) of numbers.\n",
        "\n",
        "&, `, ^, ~, << , >>"
      ],
      "metadata": {
        "id": "fFrULb9I4RxY"
      }
    },
    {
      "cell_type": "code",
      "source": [
        "v1=3\n",
        "v2=7\n",
        "print(v1&v2) #and"
      ],
      "metadata": {
        "colab": {
          "base_uri": "https://localhost:8080/"
        },
        "id": "KoH5iBUW910z",
        "outputId": "77d3ba45-86d8-4bbe-e25c-355cd7032556"
      },
      "execution_count": 84,
      "outputs": [
        {
          "output_type": "stream",
          "name": "stdout",
          "text": [
            "3\n"
          ]
        }
      ]
    },
    {
      "cell_type": "code",
      "source": [
        "v1=3\n",
        "v2=7\n",
        "print(v1 | v2) #or"
      ],
      "metadata": {
        "colab": {
          "base_uri": "https://localhost:8080/"
        },
        "id": "cil_LnlD-aZH",
        "outputId": "2d74e9d1-d1b3-4b88-9352-d2a82580ad19"
      },
      "execution_count": 86,
      "outputs": [
        {
          "output_type": "stream",
          "name": "stdout",
          "text": [
            "7\n"
          ]
        }
      ]
    },
    {
      "cell_type": "code",
      "source": [
        "v1=3\n",
        "v2=7\n",
        "print(v1 ^ v2) #xor - find unique elements"
      ],
      "metadata": {
        "colab": {
          "base_uri": "https://localhost:8080/"
        },
        "id": "kl3_RMEj-0EL",
        "outputId": "57063aca-d8e1-4650-d500-91f9ac4b49e8"
      },
      "execution_count": 87,
      "outputs": [
        {
          "output_type": "stream",
          "name": "stdout",
          "text": [
            "4\n"
          ]
        }
      ]
    },
    {
      "cell_type": "code",
      "source": [
        "v1=3\n",
        "print(~v1) #first bit is one so negative zero is postive -- bitwise not"
      ],
      "metadata": {
        "colab": {
          "base_uri": "https://localhost:8080/"
        },
        "id": "1UTSO5i1-8el",
        "outputId": "80f598e6-7a42-47ed-a0aa-5b4d1f6df7d5"
      },
      "execution_count": 89,
      "outputs": [
        {
          "output_type": "stream",
          "name": "stdout",
          "text": [
            "-4\n"
          ]
        }
      ]
    },
    {
      "cell_type": "code",
      "source": [
        "v1=3\n",
        "print(v1>>2) #pushing from left with zeroes 2 places rigght shift"
      ],
      "metadata": {
        "colab": {
          "base_uri": "https://localhost:8080/"
        },
        "id": "9GYbs-XtAUdr",
        "outputId": "de2b45f3-985b-4b3e-89b2-98a9f03abd9c"
      },
      "execution_count": 91,
      "outputs": [
        {
          "output_type": "stream",
          "name": "stdout",
          "text": [
            "0\n"
          ]
        }
      ]
    },
    {
      "cell_type": "code",
      "source": [
        "v1=3\n",
        "print(v1<<2) #pushing from right with zeroes 2 places left shift"
      ],
      "metadata": {
        "colab": {
          "base_uri": "https://localhost:8080/"
        },
        "id": "AuMnxZNgAvks",
        "outputId": "6fd3ad7f-3aa1-4e9e-ab33-f4dd9a055a9f"
      },
      "execution_count": 92,
      "outputs": [
        {
          "output_type": "stream",
          "name": "stdout",
          "text": [
            "12\n"
          ]
        }
      ]
    }
  ]
}