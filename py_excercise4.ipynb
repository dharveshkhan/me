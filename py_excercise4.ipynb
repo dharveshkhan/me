{
  "nbformat": 4,
  "nbformat_minor": 0,
  "metadata": {
    "colab": {
      "provenance": [],
      "authorship_tag": "ABX9TyN04ePPt8qprMH2zlKSimHc",
      "include_colab_link": true
    },
    "kernelspec": {
      "name": "python3",
      "display_name": "Python 3"
    },
    "language_info": {
      "name": "python"
    }
  },
  "cells": [
    {
      "cell_type": "markdown",
      "metadata": {
        "id": "view-in-github",
        "colab_type": "text"
      },
      "source": [
        "<a href=\"https://colab.research.google.com/github/dharveshkhan/me/blob/master/py_excercise4.ipynb\" target=\"_parent\"><img src=\"https://colab.research.google.com/assets/colab-badge.svg\" alt=\"Open In Colab\"/></a>"
      ]
    },
    {
      "cell_type": "code",
      "execution_count": 10,
      "metadata": {
        "id": "iUf3X8xfRCwx",
        "colab": {
          "base_uri": "https://localhost:8080/"
        },
        "outputId": "8aee1173-09b8-4c25-9af3-70141a19fe40"
      },
      "outputs": [
        {
          "output_type": "stream",
          "name": "stdout",
          "text": [
            "(1, 2, 3, 4, [4, 5], 'a')\n"
          ]
        }
      ],
      "source": [
        "a=(1,2,3,4,[4,5],'a')\n",
        "print(a)\n"
      ]
    },
    {
      "cell_type": "code",
      "source": [
        "ak=(\"dh\")\n",
        "print(type(ak)) #single item python is confused. but add a coma and it will recognize it as a tuple"
      ],
      "metadata": {
        "colab": {
          "base_uri": "https://localhost:8080/"
        },
        "id": "cMF8-sfiaSTS",
        "outputId": "c5f61ce0-8336-4ad5-f95c-0efe8c78bcf2"
      },
      "execution_count": 11,
      "outputs": [
        {
          "output_type": "stream",
          "name": "stdout",
          "text": [
            "<class 'str'>\n"
          ]
        }
      ]
    },
    {
      "cell_type": "code",
      "source": [
        "print(a)\n",
        "print(a[0])\n",
        "print(a[4][0])"
      ],
      "metadata": {
        "colab": {
          "base_uri": "https://localhost:8080/"
        },
        "id": "twg34J-NbBv2",
        "outputId": "07b7e48f-4c63-4c38-99a8-41a43a90b510"
      },
      "execution_count": 15,
      "outputs": [
        {
          "output_type": "stream",
          "name": "stdout",
          "text": [
            "(1, 2, 3, 4, [4, 5], 'a')\n",
            "1\n",
            "4\n"
          ]
        }
      ]
    },
    {
      "cell_type": "markdown",
      "source": [
        "concatention of tuples via + sign."
      ],
      "metadata": {
        "id": "o0MeJCtEdwrw"
      }
    },
    {
      "cell_type": "code",
      "source": [
        "l=(\"dharves\",)\n",
        "l*=4\n",
        "print(l)"
      ],
      "metadata": {
        "colab": {
          "base_uri": "https://localhost:8080/"
        },
        "id": "wln_1usGeLcr",
        "outputId": "bbd90fdb-1372-45c6-fa3a-6d76c2a69c34"
      },
      "execution_count": 17,
      "outputs": [
        {
          "output_type": "stream",
          "name": "stdout",
          "text": [
            "('dharves', 'dharves', 'dharves', 'dharves')\n"
          ]
        }
      ]
    },
    {
      "cell_type": "markdown",
      "source": [
        "del(tuple) is for deleting tuple"
      ],
      "metadata": {
        "id": "y3nI7vrmeoFk"
      }
    },
    {
      "cell_type": "code",
      "source": [
        "j=(1,2,43,2)\n",
        "j.count(2) #how many times\n",
        "j.index(2) #returns index"
      ],
      "metadata": {
        "colab": {
          "base_uri": "https://localhost:8080/"
        },
        "id": "u9vJALCHexpn",
        "outputId": "80402a90-9e35-4962-c263-c8a7f873582e"
      },
      "execution_count": 20,
      "outputs": [
        {
          "output_type": "execute_result",
          "data": {
            "text/plain": [
              "1"
            ]
          },
          "metadata": {},
          "execution_count": 20
        }
      ]
    },
    {
      "cell_type": "markdown",
      "source": [
        "Set is unoerdered collection no indesxing\n",
        "every element must be unique\n",
        "sets can do union difference inte3section etc"
      ],
      "metadata": {
        "id": "O_ezCNTHhI39"
      }
    },
    {
      "cell_type": "code",
      "source": [
        "my={} # not correct way of initiatlize empty set as it initialises empty dict\n",
        "\n",
        "#instead\n",
        "\n",
        "my2=set()\n",
        "print(type(my2)) #correct way"
      ],
      "metadata": {
        "colab": {
          "base_uri": "https://localhost:8080/"
        },
        "id": "ju-9ZJmQhWGv",
        "outputId": "af5089dd-59be-4dfa-9044-5041af85c3f6"
      },
      "execution_count": 21,
      "outputs": [
        {
          "output_type": "stream",
          "name": "stdout",
          "text": [
            "<class 'set'>\n"
          ]
        }
      ]
    },
    {
      "cell_type": "code",
      "source": [
        "t=[1,2,3,4,4,5,5,6,7,8] #simple to remove duplicates convert to set.\n",
        "mys=set(t)\n",
        "print(mys)\n",
        "mys.add(11) #allows add to end of set. notanywyere else because its unorered\n",
        "print(mys)\n",
        "mys.update([12,13,14]) #adding a list to the set. Single element cannot be added oinly list.\n",
        "print(mys)\n",
        "\n",
        "#tuples can be present as element not list of a set"
      ],
      "metadata": {
        "colab": {
          "base_uri": "https://localhost:8080/"
        },
        "id": "UH99HDqdhi9C",
        "outputId": "b4be2e56-bb0b-4583-f735-2bc34de2d9b2"
      },
      "execution_count": 29,
      "outputs": [
        {
          "output_type": "stream",
          "name": "stdout",
          "text": [
            "{1, 2, 3, 4, 5, 6, 7, 8}\n",
            "{1, 2, 3, 4, 5, 6, 7, 8, 11}\n",
            "{1, 2, 3, 4, 5, 6, 7, 8, 11, 12, 13, 14}\n"
          ]
        }
      ]
    },
    {
      "cell_type": "code",
      "source": [
        "y={1,2,3,4,5,6,7}\n",
        "y.remove(3) #remove the sai element but raised keyerror if no element present. discard same but no error. popremoves random item. clear delete full\n",
        "print(y)\n",
        "y.update((9,23))\n",
        "print(y)\n",
        "y.update([8,11])\n",
        "print(y)\n",
        "y.clear()\n",
        "print(y)"
      ],
      "metadata": {
        "colab": {
          "base_uri": "https://localhost:8080/"
        },
        "id": "Na698_bVj8PC",
        "outputId": "de95b8f5-040b-4d8f-cf9f-a02b6d99121c"
      },
      "execution_count": 44,
      "outputs": [
        {
          "output_type": "stream",
          "name": "stdout",
          "text": [
            "{1, 2, 4, 5, 6, 7}\n",
            "{1, 2, 4, 5, 6, 7, 9, 23}\n",
            "{1, 2, 4, 5, 6, 7, 8, 9, 11, 23}\n",
            "{2, 4, 5, 6, 7, 8, 9, 11, 23}\n"
          ]
        }
      ]
    },
    {
      "cell_type": "markdown",
      "source": [
        "#union returns unique values print(myset1.union(myset2))\n",
        "#intersection returns common items in set\n",
        "print(myset1.symmetric_difference(myset2)) - it prints everythig apart from common items."
      ],
      "metadata": {
        "id": "HWHCgwfBm4qA"
      }
    },
    {
      "cell_type": "code",
      "source": [
        "#tuples are immutable lists\n",
        "#frozensets are immutable sets\n",
        "#frozensets suports method like copy(), difference(), intersection(), issubset(), issuoerset() etc..\n",
        "myf=frozenset([1,2,3,4])\n",
        "print(myf)\n",
        "myf2 = myf.copy()\n",
        "print(myf2)\n"
      ],
      "metadata": {
        "colab": {
          "base_uri": "https://localhost:8080/"
        },
        "id": "8odQ1DaEnqvg",
        "outputId": "b7ebfbdc-c3e0-4e45-e1ab-21743041ff6a"
      },
      "execution_count": 49,
      "outputs": [
        {
          "output_type": "stream",
          "name": "stdout",
          "text": [
            "frozenset({1, 2, 3, 4})\n",
            "frozenset({1, 2, 3, 4})\n"
          ]
        }
      ]
    },
    {
      "cell_type": "code",
      "source": [
        "#dictionary\n",
        "\n",
        "#it is unordered collection of items\n",
        "#dict has a a key value and pair.\n",
        "myd=dict(key1='valued1',key2='valued2')\n",
        "print(my2)\n",
        "abc={key1:444, key2:4}\n",
        "print(abc)\n",
        "school={\"name\":[\"dharvesh\",\"ajit\"], \"age\":[33,45]}\n",
        "print(school)\n",
        "print(school[\"name\"])"
      ],
      "metadata": {
        "colab": {
          "base_uri": "https://localhost:8080/"
        },
        "id": "XLrF7GDWuI9j",
        "outputId": "6658405e-c9c2-4d8f-e077-48581509d634"
      },
      "execution_count": 75,
      "outputs": [
        {
          "output_type": "stream",
          "name": "stdout",
          "text": [
            "{4, 6}\n",
            "{4: 444, 6: 4}\n",
            "{'name': ['dharvesh', 'ajit'], 'age': [33, 45]}\n",
            "['dharvesh', 'ajit']\n"
          ]
        }
      ]
    },
    {
      "cell_type": "code",
      "source": [
        "school={1:2,3:4,5:6}\n",
        "for key,value in school.items():\n",
        "  print(key, value)"
      ],
      "metadata": {
        "colab": {
          "base_uri": "https://localhost:8080/"
        },
        "id": "B7RIavO3zQiT",
        "outputId": "d7b345e1-64dd-45f5-d7fe-76a312950e65"
      },
      "execution_count": 85,
      "outputs": [
        {
          "output_type": "stream",
          "name": "stdout",
          "text": [
            "1 2\n",
            "3 4\n",
            "5 6\n"
          ]
        }
      ]
    },
    {
      "cell_type": "code",
      "source": [
        "school={1:2,3:4,5:6}\n",
        "for key in school.keys():\n",
        "  print(key)"
      ],
      "metadata": {
        "colab": {
          "base_uri": "https://localhost:8080/"
        },
        "id": "f-hmOAtA0SkX",
        "outputId": "f834a885-cf52-4cfa-fa96-cf9549f90e5a"
      },
      "execution_count": 87,
      "outputs": [
        {
          "output_type": "stream",
          "name": "stdout",
          "text": [
            "1\n",
            "3\n",
            "5\n"
          ]
        }
      ]
    },
    {
      "cell_type": "code",
      "source": [
        "fruits={'apple':100, 'orange':300, 'pineappe':500}\n",
        "list1=[]\n",
        "for key,value in fruits.items():\n",
        "  if value > 200:\n",
        "    list1.append(key,value)\n",
        "    #list1.append()\n",
        "print(list1)\n",
        "\n",
        "[(key,value)  for key, value in fruits.items() if value > 200]     #simplest syntax"
      ],
      "metadata": {
        "id": "bF-zYRAu0-OZ"
      },
      "execution_count": null,
      "outputs": []
    },
    {
      "cell_type": "code",
      "source": [
        "def eve(number):\n",
        " if number%2==0:\n",
        "  return number\n",
        "\n",
        "print(list(filter(eve, range(10)))) #filter will only take one value and passes through function name and fikter will let it only pass if output from the function is true"
      ],
      "metadata": {
        "colab": {
          "base_uri": "https://localhost:8080/"
        },
        "id": "alnoMLGx6pd-",
        "outputId": "1de6701b-8b84-44a9-f0d1-1930ee6a43bf"
      },
      "execution_count": 115,
      "outputs": [
        {
          "output_type": "stream",
          "name": "stdout",
          "text": [
            "[2, 4, 6, 8]\n"
          ]
        }
      ]
    },
    {
      "cell_type": "code",
      "source": [
        "def eve(number):\n",
        " if number%2==0:\n",
        "  return number\n",
        "\n",
        "print(list(map(eve, range(10)))) #map will only take one value and passes through function name and  let all pass output from the function is true or false"
      ],
      "metadata": {
        "colab": {
          "base_uri": "https://localhost:8080/"
        },
        "id": "FLrj9DcZ7r2H",
        "outputId": "92e19cf0-f47f-48e9-8ae0-39c62358f9ac"
      },
      "execution_count": 116,
      "outputs": [
        {
          "output_type": "stream",
          "name": "stdout",
          "text": [
            "[0, None, 2, None, 4, None, 6, None, 8, None]\n"
          ]
        }
      ]
    },
    {
      "cell_type": "code",
      "source": [
        "from functools import reduce\n",
        "def summ(x,y):\n",
        "  return x+y\n",
        "\n",
        "reduce(summ, range(101))\n",
        "#first step reduce function asks range to give 1st two values if present. all remaining iterations it passes one value at a time gets added to previous sum."
      ],
      "metadata": {
        "colab": {
          "base_uri": "https://localhost:8080/"
        },
        "id": "bUuYQH_x75BJ",
        "outputId": "f2557abf-ec8d-4947-880d-15fa7202d077"
      },
      "execution_count": 119,
      "outputs": [
        {
          "output_type": "execute_result",
          "data": {
            "text/plain": [
              "5050"
            ]
          },
          "metadata": {},
          "execution_count": 119
        }
      ]
    },
    {
      "cell_type": "code",
      "source": [
        "def greet(*names): #arbitary functioion we dont know how many attributes passing to function.\n",
        "# *args --> *parametername\n",
        "  print(names)\n",
        "  for name in names:\n",
        "    print(\":welcome to the party {}\".format(name))\n",
        "\n",
        "greet(\"dharvesh\", 3)\n"
      ],
      "metadata": {
        "colab": {
          "base_uri": "https://localhost:8080/"
        },
        "id": "N2WAwZrw-47H",
        "outputId": "9f9c277d-b00c-411f-88bf-3d3743975711"
      },
      "execution_count": 123,
      "outputs": [
        {
          "output_type": "stream",
          "name": "stdout",
          "text": [
            "('dharvesh', 3)\n",
            ":welcome to the party dharvesh\n",
            ":welcome to the party 3\n"
          ]
        }
      ]
    },
    {
      "cell_type": "code",
      "source": [
        "# **kwargs while passing dictionary key value\n",
        "def printmarks(**marks):\n",
        "  print(marks)\n",
        "  for key, value in marks.items():\n",
        "    print(key,value)\n",
        "\n",
        "printmarks('amit', maths=100, science=200)"
      ],
      "metadata": {
        "colab": {
          "base_uri": "https://localhost:8080/",
          "height": 180
        },
        "id": "ng9kqIGEAWu-",
        "outputId": "c4bcc957-c093-49db-81be-dc93831232fd"
      },
      "execution_count": 128,
      "outputs": [
        {
          "output_type": "error",
          "ename": "TypeError",
          "evalue": "printmarks() takes 0 positional arguments but 1 was given",
          "traceback": [
            "\u001b[0;31m---------------------------------------------------------------------------\u001b[0m",
            "\u001b[0;31mTypeError\u001b[0m                                 Traceback (most recent call last)",
            "\u001b[0;32m/tmp/ipython-input-2564039364.py\u001b[0m in \u001b[0;36m<cell line: 0>\u001b[0;34m()\u001b[0m\n\u001b[1;32m      5\u001b[0m     \u001b[0mprint\u001b[0m\u001b[0;34m(\u001b[0m\u001b[0mkey\u001b[0m\u001b[0;34m,\u001b[0m\u001b[0mvalue\u001b[0m\u001b[0;34m)\u001b[0m\u001b[0;34m\u001b[0m\u001b[0;34m\u001b[0m\u001b[0m\n\u001b[1;32m      6\u001b[0m \u001b[0;34m\u001b[0m\u001b[0m\n\u001b[0;32m----> 7\u001b[0;31m \u001b[0mprintmarks\u001b[0m\u001b[0;34m(\u001b[0m\u001b[0;34m'amit'\u001b[0m\u001b[0;34m,\u001b[0m \u001b[0mmaths\u001b[0m\u001b[0;34m=\u001b[0m\u001b[0;36m100\u001b[0m\u001b[0;34m,\u001b[0m \u001b[0mscience\u001b[0m\u001b[0;34m=\u001b[0m\u001b[0;36m200\u001b[0m\u001b[0;34m)\u001b[0m\u001b[0;34m\u001b[0m\u001b[0;34m\u001b[0m\u001b[0m\n\u001b[0m",
            "\u001b[0;31mTypeError\u001b[0m: printmarks() takes 0 positional arguments but 1 was given"
          ]
        }
      ]
    },
    {
      "cell_type": "code",
      "source": [
        "#lamba dfunction\n",
        "\n",
        "#means anonymous function\n",
        "\n",
        "square = lambda x : x**2\n",
        "square(10)\n"
      ],
      "metadata": {
        "colab": {
          "base_uri": "https://localhost:8080/"
        },
        "id": "dnf-DigdCRbI",
        "outputId": "fcb8d062-eb82-4820-dcac-8f8b6697c335"
      },
      "execution_count": 131,
      "outputs": [
        {
          "output_type": "execute_result",
          "data": {
            "text/plain": [
              "100"
            ]
          },
          "metadata": {},
          "execution_count": 131
        }
      ]
    },
    {
      "cell_type": "code",
      "source": [
        "myli=[1,2,3,4,5]\n",
        "#print only elements that are odd by using lambda and filter\n",
        "list((filter(lambda x: x%2!=0, myli)))\n",
        "\n"
      ],
      "metadata": {
        "colab": {
          "base_uri": "https://localhost:8080/"
        },
        "id": "O7ODavTLC23S",
        "outputId": "dd2436d1-b0ce-42c7-c92c-41499cbe6417"
      },
      "execution_count": 137,
      "outputs": [
        {
          "output_type": "execute_result",
          "data": {
            "text/plain": [
              "[1, 3, 5]"
            ]
          },
          "metadata": {},
          "execution_count": 137
        }
      ]
    },
    {
      "cell_type": "code",
      "source": [
        "multilinelambda=lambda x: ( #multiline\n",
        "    x**2,\n",
        "    x**3,\n",
        "    x+10\n",
        ")\n",
        "\n",
        "multilinelambda(10) # single\n",
        "multilinelambda(10)[-1] #particular"
      ],
      "metadata": {
        "colab": {
          "base_uri": "https://localhost:8080/"
        },
        "id": "hey-C6_oHqJH",
        "outputId": "1c7a9008-93f4-47c9-a77a-f8303028d80b"
      },
      "execution_count": 142,
      "outputs": [
        {
          "output_type": "execute_result",
          "data": {
            "text/plain": [
              "20"
            ]
          },
          "metadata": {},
          "execution_count": 142
        }
      ]
    },
    {
      "cell_type": "code",
      "source": [
        "#try with reduce and map and try nested filter insdie map and also try error handling"
      ],
      "metadata": {
        "id": "_ot8mC5vDuh3"
      },
      "execution_count": null,
      "outputs": []
    },
    {
      "cell_type": "code",
      "source": [
        "import pandas as pd #learn how the hell we uderstand or from keyword\n",
        "data = {\n",
        "    'A': [10, 20, 30, 40, 50],\n",
        "    'B': [5, 15, 25, 35, 45],\n",
        "    'C': [2, 4, 6, 8, 10]\n",
        "}\n",
        "df = pd.DataFrame(data)\n",
        "print(df)"
      ],
      "metadata": {
        "colab": {
          "base_uri": "https://localhost:8080/"
        },
        "id": "YhsrWTUmIalK",
        "outputId": "d870dad8-2897-4e89-a7f4-6e3e9526f2f4"
      },
      "execution_count": 148,
      "outputs": [
        {
          "output_type": "stream",
          "name": "stdout",
          "text": [
            "    A   B   C\n",
            "0  10   5   2\n",
            "1  20  15   4\n",
            "2  30  25   6\n",
            "3  40  35   8\n",
            "4  50  45  10\n"
          ]
        }
      ]
    }
  ]
}