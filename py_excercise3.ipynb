{
  "nbformat": 4,
  "nbformat_minor": 0,
  "metadata": {
    "colab": {
      "provenance": [],
      "authorship_tag": "ABX9TyOoNS1IgYjyy+Ni48whHLJi",
      "include_colab_link": true
    },
    "kernelspec": {
      "name": "python3",
      "display_name": "Python 3"
    },
    "language_info": {
      "name": "python"
    }
  },
  "cells": [
    {
      "cell_type": "markdown",
      "metadata": {
        "id": "view-in-github",
        "colab_type": "text"
      },
      "source": [
        "<a href=\"https://colab.research.google.com/github/dharveshkhan/me/blob/master/py_excercise3.ipynb\" target=\"_parent\"><img src=\"https://colab.research.google.com/assets/colab-badge.svg\" alt=\"Open In Colab\"/></a>"
      ]
    },
    {
      "cell_type": "markdown",
      "source": [
        "assignment operators = >= <= += -= *= /= %= //=  "
      ],
      "metadata": {
        "id": "l-gbZKHOMR8R"
      }
    },
    {
      "cell_type": "code",
      "source": [
        "#identifyoperators\n",
        "#is and is not are identity operators\n",
        "\n",
        "v=1\n",
        "v1=2\n",
        "print(v is v1) #in python small integer value between -5 to 256 is stored in cache memory"
      ],
      "metadata": {
        "colab": {
          "base_uri": "https://localhost:8080/"
        },
        "id": "rxkzXOcWOSHL",
        "outputId": "6bacd6f1-f1ff-4514-c2be-eb1071795957"
      },
      "execution_count": 2,
      "outputs": [
        {
          "output_type": "stream",
          "name": "stdout",
          "text": [
            "False\n"
          ]
        }
      ]
    },
    {
      "cell_type": "code",
      "source": [
        "v3=2000\n",
        "v4=2000\n",
        "print(v3 is v4) # it checks same memory location or not, not just equality"
      ],
      "metadata": {
        "colab": {
          "base_uri": "https://localhost:8080/"
        },
        "id": "iYSjc6QtPHUH",
        "outputId": "eb78f980-1287-4907-ddbd-bc093c0da0fc"
      },
      "execution_count": 3,
      "outputs": [
        {
          "output_type": "stream",
          "name": "stdout",
          "text": [
            "False\n"
          ]
        }
      ]
    },
    {
      "cell_type": "code",
      "source": [
        "v3=2000\n",
        "v4=v3\n",
        "print(v3 is v4) # it checks same memory location or not, not just equality"
      ],
      "metadata": {
        "colab": {
          "base_uri": "https://localhost:8080/"
        },
        "id": "z0-uGFDBQUff",
        "outputId": "3cb8e7c4-5e7b-427b-f8cc-95808b564230"
      },
      "execution_count": 7,
      "outputs": [
        {
          "output_type": "stream",
          "name": "stdout",
          "text": [
            "True\n"
          ]
        }
      ]
    },
    {
      "cell_type": "code",
      "source": [
        "a=\"Professional Certificate Program in Generative AI and Machine Learning - IITG\"\n",
        "b=\"Professional Certificate Program in Generative AI and Machine Learning - IITG\"\n",
        "print(a is b)"
      ],
      "metadata": {
        "colab": {
          "base_uri": "https://localhost:8080/"
        },
        "id": "s4oHXaTzPyou",
        "outputId": "082586b1-356c-49ab-f566-2310033120b6"
      },
      "execution_count": 8,
      "outputs": [
        {
          "output_type": "stream",
          "name": "stdout",
          "text": [
            "False\n"
          ]
        }
      ]
    },
    {
      "cell_type": "code",
      "source": [
        "a=257\n",
        "b=257\n",
        "print(id(a),id(b))\n",
        "print(a is b)"
      ],
      "metadata": {
        "colab": {
          "base_uri": "https://localhost:8080/"
        },
        "id": "GgcenOvjTai1",
        "outputId": "ef5a73c7-e2c3-445f-f672-5225b43985d7"
      },
      "execution_count": 11,
      "outputs": [
        {
          "output_type": "stream",
          "name": "stdout",
          "text": [
            "134200035449328 134200035445712\n",
            "False\n"
          ]
        }
      ]
    },
    {
      "cell_type": "markdown",
      "source": [
        "everytine we iniitialize a value to a variable it will store into a unique memory location even if value is same"
      ],
      "metadata": {
        "id": "WnBjeXtTQoyL"
      }
    },
    {
      "cell_type": "code",
      "source": [
        "popp=None\n",
        "if(popp==None):\n",
        "  print('meow')\n",
        "else:\n",
        "  print('bowbow')"
      ],
      "metadata": {
        "colab": {
          "base_uri": "https://localhost:8080/"
        },
        "id": "vM0-hFi4U-QK",
        "outputId": "177faa8c-58fc-4861-9318-03d46b1c8046"
      },
      "execution_count": 16,
      "outputs": [
        {
          "output_type": "stream",
          "name": "stdout",
          "text": [
            "meow\n"
          ]
        }
      ]
    },
    {
      "cell_type": "code",
      "source": [
        "#Membership operators IN and NOT IN - they are used to find a value in a string, list, tuple, set , dict)\n",
        "m=[1,2,3.0,43,\"meow\",[99,990]]\n",
        "if 3 in m:\n",
        "  print(\"yes\")\n",
        "if 99 in m:\n",
        "  print(\"yeahhh\")"
      ],
      "metadata": {
        "colab": {
          "base_uri": "https://localhost:8080/"
        },
        "id": "-sicDVg3W3f6",
        "outputId": "e548fd4e-91be-49fb-b7c8-9922a08955d7"
      },
      "execution_count": 18,
      "outputs": [
        {
          "output_type": "stream",
          "name": "stdout",
          "text": [
            "yes\n"
          ]
        }
      ]
    },
    {
      "cell_type": "code",
      "source": [
        "#conditional stagement :  if, if-else, if-elif-else\n",
        "#loops -- while, for, while-else, for-else, break, continue\n",
        "print(bool(0))"
      ],
      "metadata": {
        "colab": {
          "base_uri": "https://localhost:8080/"
        },
        "id": "B7wKTJEuYLXx",
        "outputId": "be22b82d-abd8-40f6-8bb4-d0e873ef7c01"
      },
      "execution_count": 19,
      "outputs": [
        {
          "output_type": "stream",
          "name": "stdout",
          "text": [
            "False\n"
          ]
        }
      ]
    },
    {
      "cell_type": "markdown",
      "source": [
        "tructure\n",
        "Best Use Case\n",
        "if\n",
        "When you only need to check one condition.\n",
        "if-else\n",
        "When you want two possible outcomes (true/false).\n",
        "if-elif-else\n",
        "When you have multiple conditions and only one should execute\n"
      ],
      "metadata": {
        "id": "QLSOlkHvbII3"
      }
    },
    {
      "cell_type": "code",
      "source": [
        "x = 7\n",
        "\n",
        "if x > 10:\n",
        "    print(\"x is greater than 10\")\n",
        "elif x > 5:\n",
        "    print(\"x is greater than 5 but not more than 10\")\n",
        "else:\n",
        "    print(\"x is 5 or less\")"
      ],
      "metadata": {
        "colab": {
          "base_uri": "https://localhost:8080/"
        },
        "id": "Y4pd73x8crHk",
        "outputId": "50ba75e4-7757-49de-bcdc-5b07bd8a13da"
      },
      "execution_count": 20,
      "outputs": [
        {
          "output_type": "stream",
          "name": "stdout",
          "text": [
            "x is greater than 5 but not more than 10\n"
          ]
        }
      ]
    },
    {
      "cell_type": "code",
      "source": [
        "x=0\n",
        "for i in range(0,101):\n",
        "  x+=i\n",
        "print(x)"
      ],
      "metadata": {
        "colab": {
          "base_uri": "https://localhost:8080/"
        },
        "id": "v7oFIZ_CkMPh",
        "outputId": "314421b9-4f1b-45df-b7d1-344e5922c15c"
      },
      "execution_count": 23,
      "outputs": [
        {
          "output_type": "stream",
          "name": "stdout",
          "text": [
            "5050\n"
          ]
        }
      ]
    },
    {
      "cell_type": "code",
      "source": [
        "def factorial(x):\n",
        "  fact=1\n",
        "  if x<0:\n",
        "    print('wroing')\n",
        "  elif x==0:\n",
        "    print(1)\n",
        "  else:\n",
        "    while x>0:\n",
        "      fact*=x\n",
        "      x-=1\n",
        "    return fact\n",
        "\n",
        "user_input=int(input(\"enter \"))\n",
        "factorial(user_input)"
      ],
      "metadata": {
        "colab": {
          "base_uri": "https://localhost:8080/"
        },
        "id": "UgaHukKAmrfW",
        "outputId": "118f5a48-5e47-483c-b100-87c7688a5f2d"
      },
      "execution_count": 30,
      "outputs": [
        {
          "name": "stdout",
          "output_type": "stream",
          "text": [
            "enter 6\n"
          ]
        },
        {
          "output_type": "execute_result",
          "data": {
            "text/plain": [
              "720"
            ]
          },
          "metadata": {},
          "execution_count": 30
        }
      ]
    },
    {
      "cell_type": "code",
      "source": [
        "# continue will skip the iteration"
      ],
      "metadata": {
        "id": "UP0uIcf4rdIv"
      },
      "execution_count": null,
      "outputs": []
    },
    {
      "cell_type": "code",
      "source": [
        "a=[1,2,'y','i',[123]]\n",
        "for index,value in enumerate(a):\n",
        "  print(index,value)"
      ],
      "metadata": {
        "colab": {
          "base_uri": "https://localhost:8080/"
        },
        "id": "ogAekLIZzgLG",
        "outputId": "78d704ef-f2eb-4120-c47f-8cec47b4ca51"
      },
      "execution_count": 31,
      "outputs": [
        {
          "output_type": "stream",
          "name": "stdout",
          "text": [
            "0 1\n",
            "1 2\n",
            "2 y\n",
            "3 i\n",
            "4 [123]\n"
          ]
        }
      ]
    },
    {
      "cell_type": "code",
      "source": [
        "a=[1,2,3,4,5,6,7,8,9]\n",
        "print(a[1::])\n",
        "print(a[::-1])\n",
        "a.copy()\n",
        "a.append(6)\n",
        "print(a)"
      ],
      "metadata": {
        "colab": {
          "base_uri": "https://localhost:8080/"
        },
        "id": "H2cjPzn10C1t",
        "outputId": "e76ae0e1-adc5-48df-e1b9-249c28f37f94"
      },
      "execution_count": 36,
      "outputs": [
        {
          "output_type": "stream",
          "name": "stdout",
          "text": [
            "[2, 3, 4, 5, 6, 7, 8, 9]\n",
            "[9, 8, 7, 6, 5, 4, 3, 2, 1]\n",
            "[1, 2, 3, 4, 5, 6, 7, 8, 9, 6]\n"
          ]
        }
      ]
    },
    {
      "cell_type": "markdown",
      "source": [
        "\t•\tappend(x) → Add an item x to the end of the list.\n",
        "\t•\textend(iterable) → Extend the list by appending all items from the iterable.\n",
        "\t•\tinsert(i, x) → Insert an item x at a given position i.\n",
        "\t•\tremove(x) → Remove the first occurrence of item x. Raises ValueError if not found.\n",
        "\t•\tpop([i]) → Remove and return the item at position i. If i is not given, removes and returns the last item.\n",
        "\t•\tclear() → Remove all items from the list (makes it empty).\n",
        "\t•\tindex(x[, start[, end]]) → Return the index of the first occurrence of x. Optional start and end to limit search.\n",
        "\t•\tcount(x) → Return the number of occurrences of x.\n",
        "\t•\tsort(*, key=None, reverse=False) → Sort the list in place.\n",
        "\t•\treverse() → Reverse the elements of the list in place.\n",
        "\t•\tcopy() → Return a shallow copy of the list"
      ],
      "metadata": {
        "id": "pQmkhYwe0p9p"
      }
    },
    {
      "cell_type": "code",
      "source": [
        "a=[1,2,3,4]\n",
        "b=a #here its deep copy.memory reference . but if i use .copy method it will not cleared the second list.\n",
        "a.clear()\n",
        "print(b)"
      ],
      "metadata": {
        "colab": {
          "base_uri": "https://localhost:8080/"
        },
        "id": "DchqPh_J0ph9",
        "outputId": "7473d66b-0a09-4083-ff47-a2c7f9195f1e"
      },
      "execution_count": 37,
      "outputs": [
        {
          "output_type": "stream",
          "name": "stdout",
          "text": [
            "[]\n"
          ]
        }
      ]
    }
  ]
}